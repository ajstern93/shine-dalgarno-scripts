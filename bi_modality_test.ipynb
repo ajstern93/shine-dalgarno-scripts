{
 "metadata": {
  "name": "",
  "signature": "sha256:cd676923abb51d9df363593264af7f9b441e81d612e55ea58380cea33c2f5538"
 },
 "nbformat": 3,
 "nbformat_minor": 0,
 "worksheets": [
  {
   "cells": [
    {
     "cell_type": "code",
     "collapsed": false,
     "input": [
      "%matplotlib inline\n",
      "import numpy as np\n",
      "from numpy import random\n",
      "from scipy.optimize import minimize, show_options\n",
      "from matplotlib import pyplot as plt\n",
      "import matplotlib as mpl\n",
      "from scipy import stats\n",
      "from sklearn import mixture"
     ],
     "language": "python",
     "metadata": {},
     "outputs": [],
     "prompt_number": 6
    },
    {
     "cell_type": "code",
     "collapsed": false,
     "input": [
      "def pdf_model_unimodal(x, params):\n",
      "    mu, sig = params\n",
      "    return stats.norm.pdf(x, mu, sig)\n",
      "\n",
      "def log_likelihood_unimodal(p, sample):\n",
      "    '''\n",
      "    This wasn't immediately clear to me that essentially stats.norm.pdf returns the likelihood\n",
      "    for each point in an array. So just taking the log and summing them gives you the log\n",
      "    likelihood. I'm not postiive if this applies to other stats.xxx.pdf models. But it checks out\n",
      "    and gives identical results to the likelihoods that you compute using the gaussian mixture\n",
      "    models for instance.\n",
      "    '''\n",
      "    return -1*np.log(pdf_model_unimodal(sample, p)).sum()\n",
      "\n",
      "def pdf_model_bimodal(x, params):\n",
      "    mu1, sig1, mu2, sig2, pi_1 = params\n",
      "    return pi_1*stats.norm.pdf(x, mu1, sig1) + (1-pi_1)*stats.norm.pdf(x, mu2, sig2)\n",
      "\n",
      "def log_likelihood_bimodal(p, sample):\n",
      "    return -1*np.log(pdf_model_bimodal(sample, p)).sum()\n"
     ],
     "language": "python",
     "metadata": {},
     "outputs": [],
     "prompt_number": 7
    },
    {
     "cell_type": "code",
     "collapsed": false,
     "input": [
      "####Synthetic data\n",
      "#To test the different results from my fitting vs sklearn.GMM fitting...\n",
      "#toggle mu1 below. when mu1 = 2 things look very similar (should be identical for\n",
      "#unimodal likelihoods and AIC). When mu1 = 1, my initial parameters or something i \n",
      "#don't yet understand allows me to find means that are so much better than the means \n",
      "#uncovered by sklearn.GMM fits below\n",
      "N = 5720\n",
      "mu1 = 1 #TOGGLE ME\n",
      "#mu1 = 2 #TOGGLE ME\n",
      "sigma1 = 0.037\n",
      "mu2 = 0.7\n",
      "sigma2 = 0.028\n",
      "lam = 0.376 #lam is the parameter that denotes the fraction of N that is in the first mode (mu1, below)\n",
      "perfect_params = [mu1, sigma1, mu2, sigma2, lam]\n",
      "mode1 =  random.normal(mu1, sigma1, size=int(N*lam))\n",
      "mode2 = random.normal(mu2, sigma2, size=int(N*(1-lam)))\n",
      "data = np.concatenate([mode1,mode2])\n",
      "\n",
      "####Dataset 1\n",
      "# f = open('/Users/adamhockenberry/Downloads/DATA_SOI_Desire_Attitude.csv', 'rU').readlines()\n",
      "# data = []\n",
      "# for x in f[1:]:\n",
      "#     if x.split(',')[0] == '1':\n",
      "#         if x.split(',')[1] == '1':\n",
      "#             value = x.strip().split(',')[2]\n",
      "#             try:\n",
      "#                 data.append(float(value))\n",
      "#             except ValueError:\n",
      "#                 pass\n",
      "# data = np.array(data)\n",
      "# print len(data)\n",
      "####Dataset 2\n",
      "# f = open('/Users/adamhockenberry/Downloads/DATA_Manning_White_UK_2D4D.csv', 'rU').readlines()\n",
      "# data = []\n",
      "# for x in f[1:]:\n",
      "#     if x.split(',')[0] == '1':\n",
      "#         value = x.strip().split(',')[3]\n",
      "#         try:\n",
      "#             data.append(float(value))\n",
      "#         except ValueError:\n",
      "#             pass\n",
      "# data = np.array(data)\n",
      "# print len(data)\n",
      "\n"
     ],
     "language": "python",
     "metadata": {},
     "outputs": [],
     "prompt_number": 8
    },
    {
     "cell_type": "code",
     "collapsed": false,
     "input": [
      "###This is just a hack way to guess some initial starting points for the bimodal\n",
      "twenty_five_percentile = np.percentile(data, 25)\n",
      "seventy_five_percentile = np.percentile(data, 75)\n",
      "lower_half = [x for x in data if x <= seventy_five_percentile]\n",
      "upper_half = [x for x in data if x >= twenty_five_percentile]\n",
      "\n",
      "#parameter guess for a unimodal, just the mean and std\n",
      "p0_unimodal = np.array([np.mean(data), np.std(data)])\n",
      "results_unimodal = minimize(log_likelihood_unimodal, x0=p0_unimodal, args=(data,), method='Nelder-Mead',\n",
      "        options=dict(maxiter=10e3, maxfev=2e4))\n",
      "\n",
      "#need some parameter guess for the bimodal. or maybe you don't, but i think you should\n",
      "p0_bimodal = np.array([np.mean(lower_half), np.std(lower_half), np.mean(upper_half), np.std(upper_half), 0.5])\n",
      "results_bimodal = minimize(log_likelihood_bimodal, x0=p0_bimodal, args=(data,), method='Nelder-Mead',\n",
      "        options=dict(maxiter=10e3, maxfev=2e4))\n",
      "\n",
      "####Ignore this for now\n",
      "#perfect_params = [4.07, 1.36, 6.89, 1.25, 0.434] #n=134\n",
      "#perfect_params = [3.11, 1.22, 5.82, 1.20, 0.573] #n=186\n",
      "#perfect_params = [2.70, 0.98, 5.65, 1.26, 0.522] #n=187\n",
      "#perfect_params = [3.58, 1.19, 6.78, 1.18, 0.473] #n=68\n",
      "#perfect_params = [0.984, 0.037, 0.941, 0.028, 0.376] #n=572\n",
      "#perfect_params = [0.994, 0.03, 0.947, 0.0285, 0.498] #n=742\n",
      "\n",
      "\n",
      "likelihood_perfect = log_likelihood_bimodal(perfect_params, data)\n",
      "aic_perfect = (2*5)+(2*likelihood_perfect)\n",
      "aic_single = (2*2)+(2*results_unimodal.fun)\n",
      "aic_bimodal = (2*5)+(2*results_bimodal.fun)\n",
      "print 'likelihood unimodal:', results_unimodal.fun\n",
      "print 'likelihood bimodal fit:', results_bimodal.fun\n",
      "print 'likelihood perfect params:', likelihood_perfect\n",
      "print 'AIC unimodal:', aic_single\n",
      "print 'AIC bimodal fit:', aic_bimodal\n",
      "print 'AIC perfect params:', aic_perfect\n",
      "print 'Odds of unimodal being better than bimodal fit:', np.exp((aic_bimodal-aic_single)/2.)\n",
      "print 'Odds of unimodal being better than bimodal perfect:', np.exp((aic_perfect-aic_single)/2.)\n",
      "print 'And finally...'\n",
      "print 'Best fitting unimodal params:', results_unimodal.x\n",
      "print 'Best fitting bimodal params:', results_bimodal.x\n",
      "\n",
      "\n",
      "\n",
      "####just some plotting things. \n",
      "#1) trying to figure out the chi square test of this shit...\n",
      "\n",
      "d = (2*results_unimodal.fun) + (-2*likelihood_perfect)\n",
      "df = 3\n",
      "rv = stats.chi(df)\n",
      "x = np.linspace(stats.chi2.ppf(0.01, df),\n",
      "                stats.chi2.ppf(0.9, df), 100)\n",
      "plt.figure()\n",
      "plt.plot(x, rv.pdf(x), 'k-', lw=2, label='frozen pdf')\n",
      "plt.axvline(d)\n",
      "print '###########', stats.chi2.pdf(x=d, df=df)\n",
      "\n",
      "\n",
      "#2) plotting the data and the fits\n",
      "plt.figure()\n",
      "plt.hist(data, normed=True, facecolor='k', alpha=0.5, bins=50);\n",
      "x = np.linspace(stats.norm.ppf(0.01, loc=results_unimodal.x[0], scale=results_unimodal.x[1]),\n",
      "               stats.norm.ppf(0.99, loc=results_unimodal.x[0], scale=results_unimodal.x[1]), 1000)\n",
      "rv = stats.norm(loc=results_unimodal.x[0], scale=results_unimodal.x[1])\n",
      "plt.plot(x, rv.pdf(x), 'k-', lw=2, label='frozen pdf')\n",
      "\n",
      "x = np.linspace(stats.norm.ppf(0.01, loc=results_bimodal.x[0], scale=results_bimodal.x[1]),\n",
      "               stats.norm.ppf(0.99, loc=results_bimodal.x[0], scale=results_bimodal.x[1]), 1000)\n",
      "rv = stats.norm(loc=results_bimodal.x[0], scale=results_bimodal.x[1])\n",
      "plt.plot(x, rv.pdf(x), 'r--', lw=2, label='frozen pdf')\n",
      "\n",
      "x = np.linspace(stats.norm.ppf(0.01, loc=results_bimodal.x[2], scale=results_bimodal.x[3]),\n",
      "               stats.norm.ppf(0.99, loc=results_bimodal.x[2], scale=results_bimodal.x[3]), 1000)\n",
      "rv = stats.norm(loc=results_bimodal.x[2], scale=results_bimodal.x[3])\n",
      "plt.plot(x, rv.pdf(x), 'c--', lw=2, label='frozen pdf')\n",
      "#plt.xlim(min(data), max(data))\n"
     ],
     "language": "python",
     "metadata": {},
     "outputs": [
      {
       "output_type": "stream",
       "stream": "stdout",
       "text": [
        "likelihood unimodal: -2787.84851217\n",
        "likelihood bimodal fit: -7949.23961268\n",
        "likelihood perfect params: -7943.78416281\n",
        "AIC unimodal: -5571.69702433\n",
        "AIC bimodal fit: -15888.4792254\n",
        "AIC perfect params: -15877.5683256\n",
        "Odds of unimodal being better than bimodal fit: 0.0\n",
        "Odds of unimodal being better than bimodal perfect: 0.0\n",
        "And finally...\n",
        "Best fitting unimodal params: [ 0.81161091  0.14861297]\n",
        "Best fitting bimodal params: [ 0.69889375  0.02833471  0.998726    0.03625886  0.62406108]\n",
        "########### 0.0\n"
       ]
      },
      {
       "metadata": {},
       "output_type": "pyout",
       "prompt_number": 4,
       "text": [
        "[<matplotlib.lines.Line2D at 0x7f9d1f8c1cd0>]"
       ]
      },
      {
       "metadata": {},
       "output_type": "display_data",
       "png": "[encoded data removed]",
       "text": [
        "<matplotlib.figure.Figure at 0x7f9d2096f310>"
       ]
      },
      {
       "metadata": {},
       "output_type": "display_data",
       "png": "[encoded data removed]",
       "text": [
        "<matplotlib.figure.Figure at 0x7f9d1f93d490>"
       ]
      }
     ],
     "prompt_number": 4
    },
    {
     "cell_type": "code",
     "collapsed": false,
     "input": [
      "#############################################################\n",
      "######Using gaussian mixture model from sklearn to do the above\n",
      "\n",
      "def fit_samples(samples, modes):\n",
      "    gmix = mixture.GMM(n_components=modes, covariance_type='full', n_iter=1000, n_init=10)    \n",
      "    gmix.fit(samples)\n",
      "    return gmix\n",
      "\n",
      "likelihoods = []\n",
      "aics = []\n",
      "bics = []\n",
      "max_modes = 5 #test for higher modal distributions\n",
      "for mode in range(1,max_modes):\n",
      "    ####Bear in mind that i think the fits below are not good and i can't figure out\n",
      "    ####how to give better initial parameters\n",
      "    gmix = fit_samples(data, mode) \n",
      "    likelihoods.append(gmix.score(data).sum())\n",
      "    aics.append(gmix.aic(data))\n",
      "    bics.append(gmix.bic(data))\n",
      "    print '#### Data for mode:', mode\n",
      "    print 'Likelihood:', gmix.score(data).sum() \n",
      "    print 'AIC:', gmix.aic(data)\n",
      "    print 'BIC:', gmix.bic(data) \n",
      "    print 'Means:', gmix.means_\n",
      "    print '#########################'\n",
      "\n",
      "    \n",
      "#Plotting the likelihoods for different modes\n",
      "fig = plt.figure()\n",
      "ax = fig.add_subplot(111)\n",
      "ax.plot(range(1, max_modes), likelihoods)\n",
      "y_formatter = mpl.ticker.ScalarFormatter(useOffset=False)\n",
      "ax.yaxis.set_major_formatter(y_formatter)\n",
      "#plt.ticklabel_format(style='plain', axis='y')\n",
      "\n",
      "#Plotting the aic and bics for different modes\n",
      "plt.figure()\n",
      "plt.plot(range(1, max_modes), aics)\n",
      "plt.plot(range(1, max_modes), bics)\n",
      "plt.ticklabel_format(style='plain', axis='both')\n",
      "#plt.get_major_formatter\n",
      "#get_major_formatter().set_scientific(False)"
     ],
     "language": "python",
     "metadata": {},
     "outputs": [
      {
       "output_type": "stream",
       "stream": "stdout",
       "text": [
        "#### Data for mode: 1\n",
        "Likelihood: 2785.08575\n",
        "AIC: -5566.1715\n",
        "BIC: -5552.86840151\n",
        "Means: [[ 0.81161091]]\n",
        "#########################\n",
        "#### Data for mode:"
       ]
      },
      {
       "output_type": "stream",
       "stream": "stdout",
       "text": [
        " 2\n",
        "Likelihood: 7351.82274437\n",
        "AIC: -14693.6454887\n",
        "BIC: -14660.3877425\n",
        "Means: [[ 0.6988939 ]\n",
        " [ 0.99872099]]\n",
        "#########################\n",
        "#### Data for mode:"
       ]
      },
      {
       "output_type": "stream",
       "stream": "stdout",
       "text": [
        " 3\n",
        "Likelihood: 7351.82279763\n",
        "AIC: -14687.6455953\n",
        "BIC: -14634.4332013\n",
        "Means: [[ 0.69904505]\n",
        " [ 0.99872099]\n",
        " [ 0.69883231]]\n",
        "#########################\n",
        "#### Data for mode:"
       ]
      },
      {
       "output_type": "stream",
       "stream": "stdout",
       "text": [
        " 4\n",
        "Likelihood: 7351.82304861\n",
        "AIC: -14681.6460972\n",
        "BIC: -14608.4790555\n",
        "Means: [[ 0.99889357]\n",
        " [ 0.69891146]\n",
        " [ 0.99818723]\n",
        " [ 0.69888301]]\n",
        "#########################\n"
       ]
      },
      {
       "metadata": {},
       "output_type": "display_data",
       "png": "[encoded data removed]",
       "text": [
        "<matplotlib.figure.Figure at 0x7f9d1f7865d0>"
       ]
      },
      {
       "metadata": {},
       "output_type": "display_data",
       "png": "[encoded data removed]",
       "text": [
        "<matplotlib.figure.Figure at 0x7f9d1f59ea50>"
       ]
      }
     ],
     "prompt_number": 5
    },
    {
     "cell_type": "code",
     "collapsed": false,
     "input": [
      "0.01/9000"
     ],
     "language": "python",
     "metadata": {},
     "outputs": [
      {
       "metadata": {},
       "output_type": "pyout",
       "prompt_number": 7,
       "text": [
        "1.111111111111111e-06"
       ]
      }
     ],
     "prompt_number": 7
    },
    {
     "cell_type": "code",
     "collapsed": false,
     "input": [],
     "language": "python",
     "metadata": {},
     "outputs": []
    }
   ],
   "metadata": {}
  }
 ]
}