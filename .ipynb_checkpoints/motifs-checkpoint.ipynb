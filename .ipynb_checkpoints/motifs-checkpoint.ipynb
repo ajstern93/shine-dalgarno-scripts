{
 "metadata": {
  "name": "",
  "signature": "sha256:cf1547ec6c71800a23587d1cd71789619e03b46fee1fae0c096aac98b3ff9106"
 },
 "nbformat": 3,
 "nbformat_minor": 0,
 "worksheets": []
}