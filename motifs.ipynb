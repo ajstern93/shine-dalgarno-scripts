{
 "metadata": {
  "name": "",
  "signature": "sha256:492da2a30c72721b40624422b170107b84f1f21a09eec36e94b9250b8e05f1f3"
 },
 "nbformat": 3,
 "nbformat_minor": 0,
 "worksheets": [
  {
   "cells": [
    {
     "cell_type": "code",
     "collapsed": false,
     "input": [
      "from Bio import SeqIO\n",
      "from Bio import motifs\n",
      "from Bio.Seq import Seq"
     ],
     "language": "python",
     "metadata": {},
     "outputs": [],
     "prompt_number": 38
    },
    {
     "cell_type": "code",
     "collapsed": false,
     "input": [
      "MOTIF_START = -18\n",
      "MOTIF_END = -4"
     ],
     "language": "python",
     "metadata": {},
     "outputs": [],
     "prompt_number": 21
    },
    {
     "cell_type": "code",
     "collapsed": false,
     "input": [
      "records = list(SeqIO.parse('/home/projects/Systems-Biology/GenomeDatabase/complete_genome_gbk/GCA_000005845.gbk','genbank'))"
     ],
     "language": "python",
     "metadata": {},
     "outputs": [],
     "prompt_number": 13
    },
    {
     "cell_type": "code",
     "collapsed": false,
     "input": [
      "instances = []\n",
      "for feature in records[0].features:\n",
      "    if feature.type=='CDS':\n",
      "        if feature.strand==1:\n",
      "            instances.append(Seq(records[0].seq.__str__()[(int(feature.location.start)+MOTIF_START):(int(feature.location.start)+MOTIF_END+1)]))"
     ],
     "language": "python",
     "metadata": {},
     "outputs": [],
     "prompt_number": 30
    },
    {
     "cell_type": "code",
     "collapsed": false,
     "input": [
      "m = motifs.create(instances)"
     ],
     "language": "python",
     "metadata": {},
     "outputs": [],
     "prompt_number": 39
    },
    {
     "cell_type": "code",
     "collapsed": false,
     "input": [
      "print(m.counts)"
     ],
     "language": "python",
     "metadata": {},
     "outputs": [
      {
       "output_type": "stream",
       "stream": "stdout",
       "text": [
        "        0      1      2      3      4      5      6      7      8      9     10     11     12     13     14\n",
        "A: 655.00 727.00 721.00 686.00 756.00 792.00 769.00 807.00 692.00 573.00 775.00 784.00 731.00 706.00 766.00\n",
        "C: 480.00 409.00 409.00 416.00 382.00 367.00 297.00 258.00 146.00 128.00 173.00 234.00 303.00 388.00 467.00\n",
        "G: 363.00 391.00 362.00 412.00 447.00 475.00 660.00 818.00 1018.00 1190.00 900.00 679.00 559.00 453.00 359.00\n",
        "T: 610.00 581.00 616.00 594.00 523.00 474.00 382.00 225.00 252.00 217.00 260.00 411.00 515.00 561.00 516.00\n",
        "\n"
       ]
      }
     ],
     "prompt_number": 40
    },
    {
     "cell_type": "code",
     "collapsed": false,
     "input": [
      "m.weblogo(\"mymotif.png\")"
     ],
     "language": "python",
     "metadata": {},
     "outputs": [],
     "prompt_number": 43
    },
    {
     "cell_type": "code",
     "collapsed": false,
     "input": [],
     "language": "python",
     "metadata": {},
     "outputs": []
    }
   ],
   "metadata": {}
  }
 ]
}